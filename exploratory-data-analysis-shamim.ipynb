{
  "nbformat": 4,
  "nbformat_minor": 0,
  "metadata": {
    "kernelspec": {
      "display_name": "Python 3",
      "language": "python",
      "name": "python3"
    },
    "language_info": {
      "codemirror_mode": {
        "name": "ipython",
        "version": 3
      },
      "file_extension": ".py",
      "mimetype": "text/x-python",
      "name": "python",
      "nbconvert_exporter": "python",
      "pygments_lexer": "ipython3",
      "version": "3.6.3"
    },
    "colab": {
      "name": "exploratory-data-analysis.ipynb",
      "version": "0.3.2",
      "provenance": []
    }
  },
  "cells": [
    {
      "cell_type": "markdown",
      "metadata": {
        "id": "bmWsPdjyhd4G",
        "colab_type": "text"
      },
      "source": [
        "## এক্সপ্লোরেটরি ডেটা অ্যানালাইসিস \n",
        "রিভিশন ৪"
      ]
    },
    {
      "cell_type": "markdown",
      "metadata": {
        "id": "kSdyRAGlhd4J",
        "colab_type": "text"
      },
      "source": [
        "আসলে আমাদের ডেটার ভেতরে কী আছে সেটা না জানলে এর থেকে প্রেডিকশন বের করবো কী করে? সেকারণে এই এক্সপ্লোরেশন। ডেটা নিয়ে একটু ঘাঁটাঘাঁটি করলে এর ভেতরের অনেক ধারণা পাওয়া যায় যেটা মডেল সিলেকশন অথবা ফীচারগুলো বুঝতে সুবিধা হয়। আগের চ্যাপ্টারের ভেতরে কিছুটা \"এক্সপ্লোরেটরি ডেটা অ্যানালাইসিস\" করলেও এখানে সেটাকে আরেকটু খোলাসা করছি। "
      ]
    },
    {
      "cell_type": "markdown",
      "metadata": {
        "id": "sTArV34ihd4K",
        "colab_type": "text"
      },
      "source": [
        "### ডাটার শেপ, মানে কতোটা ইনস্ট্যান্স?"
      ]
    },
    {
      "cell_type": "code",
      "metadata": {
        "id": "pcfXdCOViLUj",
        "colab_type": "code",
        "colab": {}
      },
      "source": [
        "from sklearn import datasets\n",
        "import numpy as np\n",
        "iris=datasets.load_iris()"
      ],
      "execution_count": 0,
      "outputs": []
    },
    {
      "cell_type": "code",
      "metadata": {
        "id": "kNF8pEG7hd4L",
        "colab_type": "code",
        "colab": {}
      },
      "source": [
        "n_samples, n_features = iris.data.shape"
      ],
      "execution_count": 0,
      "outputs": []
    },
    {
      "cell_type": "code",
      "metadata": {
        "id": "4YLEDepDhd4P",
        "colab_type": "code",
        "colab": {
          "base_uri": "https://localhost:8080/",
          "height": 34
        },
        "outputId": "b75ae174-9867-479e-efaa-3d013f844a26"
      },
      "source": [
        "n_samples"
      ],
      "execution_count": 5,
      "outputs": [
        {
          "output_type": "execute_result",
          "data": {
            "text/plain": [
              "150"
            ]
          },
          "metadata": {
            "tags": []
          },
          "execution_count": 5
        }
      ]
    },
    {
      "cell_type": "code",
      "metadata": {
        "id": "bVqiEVgshd4U",
        "colab_type": "code",
        "colab": {
          "base_uri": "https://localhost:8080/",
          "height": 34
        },
        "outputId": "d9935c9c-3e75-4563-b5cb-92bb3464352a"
      },
      "source": [
        "n_features"
      ],
      "execution_count": 6,
      "outputs": [
        {
          "output_type": "execute_result",
          "data": {
            "text/plain": [
              "4"
            ]
          },
          "metadata": {
            "tags": []
          },
          "execution_count": 6
        }
      ]
    },
    {
      "cell_type": "code",
      "metadata": {
        "id": "3aDI3hSRhd4Y",
        "colab_type": "code",
        "colab": {
          "base_uri": "https://localhost:8080/",
          "height": 34
        },
        "outputId": "9f5d05f3-7f57-457f-dd60-7c26ca732030"
      },
      "source": [
        "print(\"Shape of data:\", iris['data'].shape)"
      ],
      "execution_count": 7,
      "outputs": [
        {
          "output_type": "stream",
          "text": [
            "Shape of data: (150, 4)\n"
          ],
          "name": "stdout"
        }
      ]
    },
    {
      "cell_type": "markdown",
      "metadata": {
        "id": "XtR1NbG_hd4b",
        "colab_type": "text"
      },
      "source": [
        "কোন ডাটা মিসিং নেই "
      ]
    },
    {
      "cell_type": "code",
      "metadata": {
        "id": "HyQIaoEJhd4b",
        "colab_type": "code",
        "colab": {
          "base_uri": "https://localhost:8080/",
          "height": 34
        },
        "outputId": "4adf4b74-e6a6-4e89-b835-e68fa58aad73"
      },
      "source": [
        "len(iris.target) == n_samples"
      ],
      "execution_count": 8,
      "outputs": [
        {
          "output_type": "execute_result",
          "data": {
            "text/plain": [
              "True"
            ]
          },
          "metadata": {
            "tags": []
          },
          "execution_count": 8
        }
      ]
    },
    {
      "cell_type": "markdown",
      "metadata": {
        "collapsed": true,
        "id": "205ZQ9rJhd4e",
        "colab_type": "text"
      },
      "source": [
        "<img src=\"https://github.com/shamimreza/ml-python/blob/master/assets/data5.png?raw=1\">"
      ]
    },
    {
      "cell_type": "markdown",
      "metadata": {
        "id": "Eirm7VN6hd4f",
        "colab_type": "text"
      },
      "source": [
        "### ফিচারগুলোর নাম \n",
        "\n",
        "ওপরের ছবিতে চারটা ফিচারের নাম দেখেছি। চলুন দেখি সেগুলো আমাদের ডাটাসেট অবজেক্টে। iris এর পর ডট নোটেশন ব্যবহার করে ডাকি একটা \"কী\" ভ্যালুকে। feature_names হচ্ছে আমাদের iris.keys() থেকে পাওয়া একটা অ্যাট্রিবিউট।"
      ]
    },
    {
      "cell_type": "code",
      "metadata": {
        "id": "GIyze4nkhd4g",
        "colab_type": "code",
        "colab": {
          "base_uri": "https://localhost:8080/",
          "height": 84
        },
        "outputId": "454f65c8-8cdf-48db-c7bb-2edc39dbbdcf"
      },
      "source": [
        "iris.feature_names"
      ],
      "execution_count": 9,
      "outputs": [
        {
          "output_type": "execute_result",
          "data": {
            "text/plain": [
              "['sepal length (cm)',\n",
              " 'sepal width (cm)',\n",
              " 'petal length (cm)',\n",
              " 'petal width (cm)']"
            ]
          },
          "metadata": {
            "tags": []
          },
          "execution_count": 9
        }
      ]
    },
    {
      "cell_type": "code",
      "metadata": {
        "id": "73d5gX9Ohd4j",
        "colab_type": "code",
        "colab": {
          "base_uri": "https://localhost:8080/",
          "height": 34
        },
        "outputId": "7395d22f-6501-47ef-8431-3e94940e9ff5"
      },
      "source": [
        "print(iris['feature_names'])"
      ],
      "execution_count": 10,
      "outputs": [
        {
          "output_type": "stream",
          "text": [
            "['sepal length (cm)', 'sepal width (cm)', 'petal length (cm)', 'petal width (cm)']\n"
          ],
          "name": "stdout"
        }
      ]
    },
    {
      "cell_type": "markdown",
      "metadata": {
        "id": "HkvYuTfchd4n",
        "colab_type": "text"
      },
      "source": [
        "### টার্গেট অর্থাৎ কী প্রেডিক্ট করতে চাই আমরা?\n",
        "\n",
        "অনেকভাবেই করা সম্ভব। তবে print ফরম্যাটিং এ ভালো কাজ করে। "
      ]
    },
    {
      "cell_type": "code",
      "metadata": {
        "id": "QYtH7gHXhd4o",
        "colab_type": "code",
        "colab": {
          "base_uri": "https://localhost:8080/",
          "height": 34
        },
        "outputId": "067b8c4f-3ddd-47c5-9b85-a14b41c95233"
      },
      "source": [
        "iris.target_names"
      ],
      "execution_count": 11,
      "outputs": [
        {
          "output_type": "execute_result",
          "data": {
            "text/plain": [
              "array(['setosa', 'versicolor', 'virginica'], dtype='<U10')"
            ]
          },
          "metadata": {
            "tags": []
          },
          "execution_count": 11
        }
      ]
    },
    {
      "cell_type": "code",
      "metadata": {
        "id": "6wNgiUCXhd4r",
        "colab_type": "code",
        "colab": {
          "base_uri": "https://localhost:8080/",
          "height": 34
        },
        "outputId": "0f41d2d8-dc43-47e5-b7cb-59804448a441"
      },
      "source": [
        "print(iris.target_names)"
      ],
      "execution_count": 12,
      "outputs": [
        {
          "output_type": "stream",
          "text": [
            "['setosa' 'versicolor' 'virginica']\n"
          ],
          "name": "stdout"
        }
      ]
    },
    {
      "cell_type": "code",
      "metadata": {
        "id": "QxeNfYthhd4u",
        "colab_type": "code",
        "colab": {
          "base_uri": "https://localhost:8080/",
          "height": 34
        },
        "outputId": "c919e5a9-5dab-4c69-dd87-031ef962f71e"
      },
      "source": [
        "list(iris.target_names)"
      ],
      "execution_count": 13,
      "outputs": [
        {
          "output_type": "execute_result",
          "data": {
            "text/plain": [
              "['setosa', 'versicolor', 'virginica']"
            ]
          },
          "metadata": {
            "tags": []
          },
          "execution_count": 13
        }
      ]
    },
    {
      "cell_type": "code",
      "metadata": {
        "id": "jbY_dARshd4x",
        "colab_type": "code",
        "colab": {
          "base_uri": "https://localhost:8080/",
          "height": 34
        },
        "outputId": "f2dece43-1917-41da-9155-867b1046f476"
      },
      "source": [
        "print(\"Target names:\", iris['target_names'])"
      ],
      "execution_count": 14,
      "outputs": [
        {
          "output_type": "stream",
          "text": [
            "Target names: ['setosa' 'versicolor' 'virginica']\n"
          ],
          "name": "stdout"
        }
      ]
    },
    {
      "cell_type": "markdown",
      "metadata": {
        "id": "QzfWWO0Khd41",
        "colab_type": "text"
      },
      "source": [
        "### কি আছে ডাটা অ্যারে আর টার্গেট অ্যারে এর ভেতর?\n",
        "\n",
        "এখানে অ্যারে নিয়ে কাজ হচ্ছে। iris.dataতে সেই চারটা ১. পেটাল দৈর্ঘ্য, ২. পেটাল প্রস্থ, ৩. সিপাল দৈর্ঘ্য, ৪. সিপাল প্রস্থ মাপগুলো পাশাপাশি দেয়া আছে। শুরুতে দেখি প্রথম রেকর্ড। এরপর পুরো রেকর্ড। "
      ]
    },
    {
      "cell_type": "code",
      "metadata": {
        "id": "p5wGPGvvhd42",
        "colab_type": "code",
        "colab": {
          "base_uri": "https://localhost:8080/",
          "height": 34
        },
        "outputId": "33ab3f4c-a6e3-4372-cea3-950f90fb3c36"
      },
      "source": [
        "iris.data[0]"
      ],
      "execution_count": 15,
      "outputs": [
        {
          "output_type": "execute_result",
          "data": {
            "text/plain": [
              "array([5.1, 3.5, 1.4, 0.2])"
            ]
          },
          "metadata": {
            "tags": []
          },
          "execution_count": 15
        }
      ]
    },
    {
      "cell_type": "code",
      "metadata": {
        "id": "fd-7tX8Thd48",
        "colab_type": "code",
        "colab": {
          "base_uri": "https://localhost:8080/",
          "height": 1000
        },
        "outputId": "b652df10-ea58-45c8-a79f-430f3d8395a8"
      },
      "source": [
        "iris.data"
      ],
      "execution_count": 16,
      "outputs": [
        {
          "output_type": "execute_result",
          "data": {
            "text/plain": [
              "array([[5.1, 3.5, 1.4, 0.2],\n",
              "       [4.9, 3. , 1.4, 0.2],\n",
              "       [4.7, 3.2, 1.3, 0.2],\n",
              "       [4.6, 3.1, 1.5, 0.2],\n",
              "       [5. , 3.6, 1.4, 0.2],\n",
              "       [5.4, 3.9, 1.7, 0.4],\n",
              "       [4.6, 3.4, 1.4, 0.3],\n",
              "       [5. , 3.4, 1.5, 0.2],\n",
              "       [4.4, 2.9, 1.4, 0.2],\n",
              "       [4.9, 3.1, 1.5, 0.1],\n",
              "       [5.4, 3.7, 1.5, 0.2],\n",
              "       [4.8, 3.4, 1.6, 0.2],\n",
              "       [4.8, 3. , 1.4, 0.1],\n",
              "       [4.3, 3. , 1.1, 0.1],\n",
              "       [5.8, 4. , 1.2, 0.2],\n",
              "       [5.7, 4.4, 1.5, 0.4],\n",
              "       [5.4, 3.9, 1.3, 0.4],\n",
              "       [5.1, 3.5, 1.4, 0.3],\n",
              "       [5.7, 3.8, 1.7, 0.3],\n",
              "       [5.1, 3.8, 1.5, 0.3],\n",
              "       [5.4, 3.4, 1.7, 0.2],\n",
              "       [5.1, 3.7, 1.5, 0.4],\n",
              "       [4.6, 3.6, 1. , 0.2],\n",
              "       [5.1, 3.3, 1.7, 0.5],\n",
              "       [4.8, 3.4, 1.9, 0.2],\n",
              "       [5. , 3. , 1.6, 0.2],\n",
              "       [5. , 3.4, 1.6, 0.4],\n",
              "       [5.2, 3.5, 1.5, 0.2],\n",
              "       [5.2, 3.4, 1.4, 0.2],\n",
              "       [4.7, 3.2, 1.6, 0.2],\n",
              "       [4.8, 3.1, 1.6, 0.2],\n",
              "       [5.4, 3.4, 1.5, 0.4],\n",
              "       [5.2, 4.1, 1.5, 0.1],\n",
              "       [5.5, 4.2, 1.4, 0.2],\n",
              "       [4.9, 3.1, 1.5, 0.2],\n",
              "       [5. , 3.2, 1.2, 0.2],\n",
              "       [5.5, 3.5, 1.3, 0.2],\n",
              "       [4.9, 3.6, 1.4, 0.1],\n",
              "       [4.4, 3. , 1.3, 0.2],\n",
              "       [5.1, 3.4, 1.5, 0.2],\n",
              "       [5. , 3.5, 1.3, 0.3],\n",
              "       [4.5, 2.3, 1.3, 0.3],\n",
              "       [4.4, 3.2, 1.3, 0.2],\n",
              "       [5. , 3.5, 1.6, 0.6],\n",
              "       [5.1, 3.8, 1.9, 0.4],\n",
              "       [4.8, 3. , 1.4, 0.3],\n",
              "       [5.1, 3.8, 1.6, 0.2],\n",
              "       [4.6, 3.2, 1.4, 0.2],\n",
              "       [5.3, 3.7, 1.5, 0.2],\n",
              "       [5. , 3.3, 1.4, 0.2],\n",
              "       [7. , 3.2, 4.7, 1.4],\n",
              "       [6.4, 3.2, 4.5, 1.5],\n",
              "       [6.9, 3.1, 4.9, 1.5],\n",
              "       [5.5, 2.3, 4. , 1.3],\n",
              "       [6.5, 2.8, 4.6, 1.5],\n",
              "       [5.7, 2.8, 4.5, 1.3],\n",
              "       [6.3, 3.3, 4.7, 1.6],\n",
              "       [4.9, 2.4, 3.3, 1. ],\n",
              "       [6.6, 2.9, 4.6, 1.3],\n",
              "       [5.2, 2.7, 3.9, 1.4],\n",
              "       [5. , 2. , 3.5, 1. ],\n",
              "       [5.9, 3. , 4.2, 1.5],\n",
              "       [6. , 2.2, 4. , 1. ],\n",
              "       [6.1, 2.9, 4.7, 1.4],\n",
              "       [5.6, 2.9, 3.6, 1.3],\n",
              "       [6.7, 3.1, 4.4, 1.4],\n",
              "       [5.6, 3. , 4.5, 1.5],\n",
              "       [5.8, 2.7, 4.1, 1. ],\n",
              "       [6.2, 2.2, 4.5, 1.5],\n",
              "       [5.6, 2.5, 3.9, 1.1],\n",
              "       [5.9, 3.2, 4.8, 1.8],\n",
              "       [6.1, 2.8, 4. , 1.3],\n",
              "       [6.3, 2.5, 4.9, 1.5],\n",
              "       [6.1, 2.8, 4.7, 1.2],\n",
              "       [6.4, 2.9, 4.3, 1.3],\n",
              "       [6.6, 3. , 4.4, 1.4],\n",
              "       [6.8, 2.8, 4.8, 1.4],\n",
              "       [6.7, 3. , 5. , 1.7],\n",
              "       [6. , 2.9, 4.5, 1.5],\n",
              "       [5.7, 2.6, 3.5, 1. ],\n",
              "       [5.5, 2.4, 3.8, 1.1],\n",
              "       [5.5, 2.4, 3.7, 1. ],\n",
              "       [5.8, 2.7, 3.9, 1.2],\n",
              "       [6. , 2.7, 5.1, 1.6],\n",
              "       [5.4, 3. , 4.5, 1.5],\n",
              "       [6. , 3.4, 4.5, 1.6],\n",
              "       [6.7, 3.1, 4.7, 1.5],\n",
              "       [6.3, 2.3, 4.4, 1.3],\n",
              "       [5.6, 3. , 4.1, 1.3],\n",
              "       [5.5, 2.5, 4. , 1.3],\n",
              "       [5.5, 2.6, 4.4, 1.2],\n",
              "       [6.1, 3. , 4.6, 1.4],\n",
              "       [5.8, 2.6, 4. , 1.2],\n",
              "       [5. , 2.3, 3.3, 1. ],\n",
              "       [5.6, 2.7, 4.2, 1.3],\n",
              "       [5.7, 3. , 4.2, 1.2],\n",
              "       [5.7, 2.9, 4.2, 1.3],\n",
              "       [6.2, 2.9, 4.3, 1.3],\n",
              "       [5.1, 2.5, 3. , 1.1],\n",
              "       [5.7, 2.8, 4.1, 1.3],\n",
              "       [6.3, 3.3, 6. , 2.5],\n",
              "       [5.8, 2.7, 5.1, 1.9],\n",
              "       [7.1, 3. , 5.9, 2.1],\n",
              "       [6.3, 2.9, 5.6, 1.8],\n",
              "       [6.5, 3. , 5.8, 2.2],\n",
              "       [7.6, 3. , 6.6, 2.1],\n",
              "       [4.9, 2.5, 4.5, 1.7],\n",
              "       [7.3, 2.9, 6.3, 1.8],\n",
              "       [6.7, 2.5, 5.8, 1.8],\n",
              "       [7.2, 3.6, 6.1, 2.5],\n",
              "       [6.5, 3.2, 5.1, 2. ],\n",
              "       [6.4, 2.7, 5.3, 1.9],\n",
              "       [6.8, 3. , 5.5, 2.1],\n",
              "       [5.7, 2.5, 5. , 2. ],\n",
              "       [5.8, 2.8, 5.1, 2.4],\n",
              "       [6.4, 3.2, 5.3, 2.3],\n",
              "       [6.5, 3. , 5.5, 1.8],\n",
              "       [7.7, 3.8, 6.7, 2.2],\n",
              "       [7.7, 2.6, 6.9, 2.3],\n",
              "       [6. , 2.2, 5. , 1.5],\n",
              "       [6.9, 3.2, 5.7, 2.3],\n",
              "       [5.6, 2.8, 4.9, 2. ],\n",
              "       [7.7, 2.8, 6.7, 2. ],\n",
              "       [6.3, 2.7, 4.9, 1.8],\n",
              "       [6.7, 3.3, 5.7, 2.1],\n",
              "       [7.2, 3.2, 6. , 1.8],\n",
              "       [6.2, 2.8, 4.8, 1.8],\n",
              "       [6.1, 3. , 4.9, 1.8],\n",
              "       [6.4, 2.8, 5.6, 2.1],\n",
              "       [7.2, 3. , 5.8, 1.6],\n",
              "       [7.4, 2.8, 6.1, 1.9],\n",
              "       [7.9, 3.8, 6.4, 2. ],\n",
              "       [6.4, 2.8, 5.6, 2.2],\n",
              "       [6.3, 2.8, 5.1, 1.5],\n",
              "       [6.1, 2.6, 5.6, 1.4],\n",
              "       [7.7, 3. , 6.1, 2.3],\n",
              "       [6.3, 3.4, 5.6, 2.4],\n",
              "       [6.4, 3.1, 5.5, 1.8],\n",
              "       [6. , 3. , 4.8, 1.8],\n",
              "       [6.9, 3.1, 5.4, 2.1],\n",
              "       [6.7, 3.1, 5.6, 2.4],\n",
              "       [6.9, 3.1, 5.1, 2.3],\n",
              "       [5.8, 2.7, 5.1, 1.9],\n",
              "       [6.8, 3.2, 5.9, 2.3],\n",
              "       [6.7, 3.3, 5.7, 2.5],\n",
              "       [6.7, 3. , 5.2, 2.3],\n",
              "       [6.3, 2.5, 5. , 1.9],\n",
              "       [6.5, 3. , 5.2, 2. ],\n",
              "       [6.2, 3.4, 5.4, 2.3],\n",
              "       [5.9, 3. , 5.1, 1.8]])"
            ]
          },
          "metadata": {
            "tags": []
          },
          "execution_count": 16
        }
      ]
    },
    {
      "cell_type": "code",
      "metadata": {
        "id": "zJqDkmUvhd5A",
        "colab_type": "code",
        "colab": {
          "base_uri": "https://localhost:8080/",
          "height": 134
        },
        "outputId": "20357371-d0ed-4079-ea38-7126bd168590"
      },
      "source": [
        "iris.target"
      ],
      "execution_count": 17,
      "outputs": [
        {
          "output_type": "execute_result",
          "data": {
            "text/plain": [
              "array([0, 0, 0, 0, 0, 0, 0, 0, 0, 0, 0, 0, 0, 0, 0, 0, 0, 0, 0, 0, 0, 0,\n",
              "       0, 0, 0, 0, 0, 0, 0, 0, 0, 0, 0, 0, 0, 0, 0, 0, 0, 0, 0, 0, 0, 0,\n",
              "       0, 0, 0, 0, 0, 0, 1, 1, 1, 1, 1, 1, 1, 1, 1, 1, 1, 1, 1, 1, 1, 1,\n",
              "       1, 1, 1, 1, 1, 1, 1, 1, 1, 1, 1, 1, 1, 1, 1, 1, 1, 1, 1, 1, 1, 1,\n",
              "       1, 1, 1, 1, 1, 1, 1, 1, 1, 1, 1, 1, 2, 2, 2, 2, 2, 2, 2, 2, 2, 2,\n",
              "       2, 2, 2, 2, 2, 2, 2, 2, 2, 2, 2, 2, 2, 2, 2, 2, 2, 2, 2, 2, 2, 2,\n",
              "       2, 2, 2, 2, 2, 2, 2, 2, 2, 2, 2, 2, 2, 2, 2, 2, 2, 2])"
            ]
          },
          "metadata": {
            "tags": []
          },
          "execution_count": 17
        }
      ]
    },
    {
      "cell_type": "markdown",
      "metadata": {
        "id": "dtPzc7iuhd5D",
        "colab_type": "text"
      },
      "source": [
        "আমাদের \"ফিচার\" আর \"রেসপন্স\" অর্থাৎ \"টার্গেট\" কি ধরণের কন্টেইনারে আছে, সেটা জানতে চাইলাম এখানে। ঠিক ধরেছেন। \"নামপাই অ্যারে\"।"
      ]
    },
    {
      "cell_type": "code",
      "metadata": {
        "id": "QygYG3l2hd5E",
        "colab_type": "code",
        "colab": {
          "base_uri": "https://localhost:8080/",
          "height": 50
        },
        "outputId": "2c7c3bdb-3135-4c2e-86c4-f5d77b416cc9"
      },
      "source": [
        "print(type(iris.data))\n",
        "print(type(iris.target))"
      ],
      "execution_count": 18,
      "outputs": [
        {
          "output_type": "stream",
          "text": [
            "<class 'numpy.ndarray'>\n",
            "<class 'numpy.ndarray'>\n"
          ],
          "name": "stdout"
        }
      ]
    },
    {
      "cell_type": "markdown",
      "metadata": {
        "id": "jdQze62Bhd5I",
        "colab_type": "text"
      },
      "source": [
        "ফিচারের ম্যাট্রিক্স কি? (১ম ডাইমেনশন  = অবজার্ভেশনের সংখ্যা, ২য় = ফিচারের সংখ্যা)"
      ]
    },
    {
      "cell_type": "code",
      "metadata": {
        "id": "NU-4l99_hd5J",
        "colab_type": "code",
        "colab": {
          "base_uri": "https://localhost:8080/",
          "height": 34
        },
        "outputId": "0f89dffe-8af5-4fde-ce84-05fc057e3b68"
      },
      "source": [
        "print(iris.data.shape)"
      ],
      "execution_count": 19,
      "outputs": [
        {
          "output_type": "stream",
          "text": [
            "(150, 4)\n"
          ],
          "name": "stdout"
        }
      ]
    },
    {
      "cell_type": "markdown",
      "metadata": {
        "id": "wERM3vrhhd5M",
        "colab_type": "text"
      },
      "source": [
        "টার্গেট ম্যাট্রিক্স কি? (১ম ডাইমেনশন  = লেবেল, টার্গেট, রেসপন্স)"
      ]
    },
    {
      "cell_type": "code",
      "metadata": {
        "id": "TOiqfgnohd5N",
        "colab_type": "code",
        "colab": {},
        "outputId": "8d2c5fda-9298-41f3-9f1e-089044ad1faf"
      },
      "source": [
        "print(iris.target.shape)"
      ],
      "execution_count": 0,
      "outputs": [
        {
          "output_type": "stream",
          "text": [
            "(150,)\n"
          ],
          "name": "stdout"
        }
      ]
    },
    {
      "cell_type": "code",
      "metadata": {
        "id": "nYDSIYgehd5Q",
        "colab_type": "code",
        "colab": {},
        "outputId": "07cab0de-52fc-409f-d04a-1bc5505f1bbc"
      },
      "source": [
        "print(\"Shape of target:\", iris['target'].shape)"
      ],
      "execution_count": 0,
      "outputs": [
        {
          "output_type": "stream",
          "text": [
            "Shape of target: (150,)\n"
          ],
          "name": "stdout"
        }
      ]
    },
    {
      "cell_type": "markdown",
      "metadata": {
        "id": "dAq8PQIrhd5T",
        "colab_type": "text"
      },
      "source": [
        "### সাইকিট-লার্ন এ ডাটা হ্যান্ডলিং এর নিয়ম \n",
        "\n",
        "১. এখানে \"ফিচার\" এবং \"রেসপন্স\" দুটো আলাদা অবজেক্ট \n",
        "(আমাদের এখানে দেখুন, \"ফিচার\" এবং \"রেসপন্স\" মানে \"টার্গেট\" আলাদা অবজেক্ট)\n",
        "\n",
        "২. \"ফিচার\" এবং \"রেসপন্স\" দুটোকেই সংখ্যা হতে হবে \n",
        "(আমাদের এখানে দুটোই সংখ্যার, দুটোর ম্যাট্রিক্স ডাইমেনশন হচ্ছে (১৫০ x ৪) এবং (১৫০ x ১)\n",
        "\n",
        "৩. \"ফিচার\" এবং \"রেসপন্স\" দুটোকেই \"নামপাই অ্যারে\" হতে হবে। \n",
        "(আমাদের দুটো ফিচারই আছে \"নামপাই অ্যারে\"তে, বাকি ডাটা ডাটাসেট দরকার হলে সেটাকেও লোড করে নিতে হবে \"নামপাই অ্যারে\"তে)\n",
        "\n",
        "৪. \"ফিচার\" এবং \"রেসপন্স\" দুটোকেই স্পেসিফিক shape হতে হবে \n",
        "\n",
        "* ১৫০ x ৪ -> পুরো ডাটাসেট \n",
        "* ১৫০ x ১ টার্গেটের জন্য \n",
        "* ৪ x ১ ফিচারের জন্য \n",
        "* আমরা ইচ্ছা করলে যেকোন ম্যাট্রিক্স পাল্টে নিতে পারি আমাদের দরকার মতো। যেমন np.tile(a, [4, 1]), মানে a হচ্ছে ম্যাট্রিক্স আর [4, 1] হচ্ছে ইনডেন্ট ম্যাট্রিক্স আরেক ডাইমেনশনে। "
      ]
    },
    {
      "cell_type": "code",
      "metadata": {
        "id": "MUGS0CQdhd5T",
        "colab_type": "code",
        "colab": {}
      },
      "source": [
        "# ফিচার ম্যাট্রিক্স স্টোর করছি বড় \"X\"এ, মনে আছে f(x)=y কথা? x ইনপুট হলে y আউটপুট \n",
        "X = iris.data\n",
        "\n",
        "# রেসপন্স ভেক্টর রাখছি \"y\" তে \n",
        "y = iris.target"
      ],
      "execution_count": 0,
      "outputs": []
    },
    {
      "cell_type": "code",
      "metadata": {
        "id": "9kZDbsTdhd5W",
        "colab_type": "code",
        "colab": {},
        "outputId": "5d545438-e373-4035-b008-4cba96768c9a"
      },
      "source": [
        "X"
      ],
      "execution_count": 0,
      "outputs": [
        {
          "output_type": "execute_result",
          "data": {
            "text/plain": [
              "array([[ 5.1,  3.5,  1.4,  0.2],\n",
              "       [ 4.9,  3. ,  1.4,  0.2],\n",
              "       [ 4.7,  3.2,  1.3,  0.2],\n",
              "       [ 4.6,  3.1,  1.5,  0.2],\n",
              "       [ 5. ,  3.6,  1.4,  0.2],\n",
              "       [ 5.4,  3.9,  1.7,  0.4],\n",
              "       [ 4.6,  3.4,  1.4,  0.3],\n",
              "       [ 5. ,  3.4,  1.5,  0.2],\n",
              "       [ 4.4,  2.9,  1.4,  0.2],\n",
              "       [ 4.9,  3.1,  1.5,  0.1],\n",
              "       [ 5.4,  3.7,  1.5,  0.2],\n",
              "       [ 4.8,  3.4,  1.6,  0.2],\n",
              "       [ 4.8,  3. ,  1.4,  0.1],\n",
              "       [ 4.3,  3. ,  1.1,  0.1],\n",
              "       [ 5.8,  4. ,  1.2,  0.2],\n",
              "       [ 5.7,  4.4,  1.5,  0.4],\n",
              "       [ 5.4,  3.9,  1.3,  0.4],\n",
              "       [ 5.1,  3.5,  1.4,  0.3],\n",
              "       [ 5.7,  3.8,  1.7,  0.3],\n",
              "       [ 5.1,  3.8,  1.5,  0.3],\n",
              "       [ 5.4,  3.4,  1.7,  0.2],\n",
              "       [ 5.1,  3.7,  1.5,  0.4],\n",
              "       [ 4.6,  3.6,  1. ,  0.2],\n",
              "       [ 5.1,  3.3,  1.7,  0.5],\n",
              "       [ 4.8,  3.4,  1.9,  0.2],\n",
              "       [ 5. ,  3. ,  1.6,  0.2],\n",
              "       [ 5. ,  3.4,  1.6,  0.4],\n",
              "       [ 5.2,  3.5,  1.5,  0.2],\n",
              "       [ 5.2,  3.4,  1.4,  0.2],\n",
              "       [ 4.7,  3.2,  1.6,  0.2],\n",
              "       [ 4.8,  3.1,  1.6,  0.2],\n",
              "       [ 5.4,  3.4,  1.5,  0.4],\n",
              "       [ 5.2,  4.1,  1.5,  0.1],\n",
              "       [ 5.5,  4.2,  1.4,  0.2],\n",
              "       [ 4.9,  3.1,  1.5,  0.1],\n",
              "       [ 5. ,  3.2,  1.2,  0.2],\n",
              "       [ 5.5,  3.5,  1.3,  0.2],\n",
              "       [ 4.9,  3.1,  1.5,  0.1],\n",
              "       [ 4.4,  3. ,  1.3,  0.2],\n",
              "       [ 5.1,  3.4,  1.5,  0.2],\n",
              "       [ 5. ,  3.5,  1.3,  0.3],\n",
              "       [ 4.5,  2.3,  1.3,  0.3],\n",
              "       [ 4.4,  3.2,  1.3,  0.2],\n",
              "       [ 5. ,  3.5,  1.6,  0.6],\n",
              "       [ 5.1,  3.8,  1.9,  0.4],\n",
              "       [ 4.8,  3. ,  1.4,  0.3],\n",
              "       [ 5.1,  3.8,  1.6,  0.2],\n",
              "       [ 4.6,  3.2,  1.4,  0.2],\n",
              "       [ 5.3,  3.7,  1.5,  0.2],\n",
              "       [ 5. ,  3.3,  1.4,  0.2],\n",
              "       [ 7. ,  3.2,  4.7,  1.4],\n",
              "       [ 6.4,  3.2,  4.5,  1.5],\n",
              "       [ 6.9,  3.1,  4.9,  1.5],\n",
              "       [ 5.5,  2.3,  4. ,  1.3],\n",
              "       [ 6.5,  2.8,  4.6,  1.5],\n",
              "       [ 5.7,  2.8,  4.5,  1.3],\n",
              "       [ 6.3,  3.3,  4.7,  1.6],\n",
              "       [ 4.9,  2.4,  3.3,  1. ],\n",
              "       [ 6.6,  2.9,  4.6,  1.3],\n",
              "       [ 5.2,  2.7,  3.9,  1.4],\n",
              "       [ 5. ,  2. ,  3.5,  1. ],\n",
              "       [ 5.9,  3. ,  4.2,  1.5],\n",
              "       [ 6. ,  2.2,  4. ,  1. ],\n",
              "       [ 6.1,  2.9,  4.7,  1.4],\n",
              "       [ 5.6,  2.9,  3.6,  1.3],\n",
              "       [ 6.7,  3.1,  4.4,  1.4],\n",
              "       [ 5.6,  3. ,  4.5,  1.5],\n",
              "       [ 5.8,  2.7,  4.1,  1. ],\n",
              "       [ 6.2,  2.2,  4.5,  1.5],\n",
              "       [ 5.6,  2.5,  3.9,  1.1],\n",
              "       [ 5.9,  3.2,  4.8,  1.8],\n",
              "       [ 6.1,  2.8,  4. ,  1.3],\n",
              "       [ 6.3,  2.5,  4.9,  1.5],\n",
              "       [ 6.1,  2.8,  4.7,  1.2],\n",
              "       [ 6.4,  2.9,  4.3,  1.3],\n",
              "       [ 6.6,  3. ,  4.4,  1.4],\n",
              "       [ 6.8,  2.8,  4.8,  1.4],\n",
              "       [ 6.7,  3. ,  5. ,  1.7],\n",
              "       [ 6. ,  2.9,  4.5,  1.5],\n",
              "       [ 5.7,  2.6,  3.5,  1. ],\n",
              "       [ 5.5,  2.4,  3.8,  1.1],\n",
              "       [ 5.5,  2.4,  3.7,  1. ],\n",
              "       [ 5.8,  2.7,  3.9,  1.2],\n",
              "       [ 6. ,  2.7,  5.1,  1.6],\n",
              "       [ 5.4,  3. ,  4.5,  1.5],\n",
              "       [ 6. ,  3.4,  4.5,  1.6],\n",
              "       [ 6.7,  3.1,  4.7,  1.5],\n",
              "       [ 6.3,  2.3,  4.4,  1.3],\n",
              "       [ 5.6,  3. ,  4.1,  1.3],\n",
              "       [ 5.5,  2.5,  4. ,  1.3],\n",
              "       [ 5.5,  2.6,  4.4,  1.2],\n",
              "       [ 6.1,  3. ,  4.6,  1.4],\n",
              "       [ 5.8,  2.6,  4. ,  1.2],\n",
              "       [ 5. ,  2.3,  3.3,  1. ],\n",
              "       [ 5.6,  2.7,  4.2,  1.3],\n",
              "       [ 5.7,  3. ,  4.2,  1.2],\n",
              "       [ 5.7,  2.9,  4.2,  1.3],\n",
              "       [ 6.2,  2.9,  4.3,  1.3],\n",
              "       [ 5.1,  2.5,  3. ,  1.1],\n",
              "       [ 5.7,  2.8,  4.1,  1.3],\n",
              "       [ 6.3,  3.3,  6. ,  2.5],\n",
              "       [ 5.8,  2.7,  5.1,  1.9],\n",
              "       [ 7.1,  3. ,  5.9,  2.1],\n",
              "       [ 6.3,  2.9,  5.6,  1.8],\n",
              "       [ 6.5,  3. ,  5.8,  2.2],\n",
              "       [ 7.6,  3. ,  6.6,  2.1],\n",
              "       [ 4.9,  2.5,  4.5,  1.7],\n",
              "       [ 7.3,  2.9,  6.3,  1.8],\n",
              "       [ 6.7,  2.5,  5.8,  1.8],\n",
              "       [ 7.2,  3.6,  6.1,  2.5],\n",
              "       [ 6.5,  3.2,  5.1,  2. ],\n",
              "       [ 6.4,  2.7,  5.3,  1.9],\n",
              "       [ 6.8,  3. ,  5.5,  2.1],\n",
              "       [ 5.7,  2.5,  5. ,  2. ],\n",
              "       [ 5.8,  2.8,  5.1,  2.4],\n",
              "       [ 6.4,  3.2,  5.3,  2.3],\n",
              "       [ 6.5,  3. ,  5.5,  1.8],\n",
              "       [ 7.7,  3.8,  6.7,  2.2],\n",
              "       [ 7.7,  2.6,  6.9,  2.3],\n",
              "       [ 6. ,  2.2,  5. ,  1.5],\n",
              "       [ 6.9,  3.2,  5.7,  2.3],\n",
              "       [ 5.6,  2.8,  4.9,  2. ],\n",
              "       [ 7.7,  2.8,  6.7,  2. ],\n",
              "       [ 6.3,  2.7,  4.9,  1.8],\n",
              "       [ 6.7,  3.3,  5.7,  2.1],\n",
              "       [ 7.2,  3.2,  6. ,  1.8],\n",
              "       [ 6.2,  2.8,  4.8,  1.8],\n",
              "       [ 6.1,  3. ,  4.9,  1.8],\n",
              "       [ 6.4,  2.8,  5.6,  2.1],\n",
              "       [ 7.2,  3. ,  5.8,  1.6],\n",
              "       [ 7.4,  2.8,  6.1,  1.9],\n",
              "       [ 7.9,  3.8,  6.4,  2. ],\n",
              "       [ 6.4,  2.8,  5.6,  2.2],\n",
              "       [ 6.3,  2.8,  5.1,  1.5],\n",
              "       [ 6.1,  2.6,  5.6,  1.4],\n",
              "       [ 7.7,  3. ,  6.1,  2.3],\n",
              "       [ 6.3,  3.4,  5.6,  2.4],\n",
              "       [ 6.4,  3.1,  5.5,  1.8],\n",
              "       [ 6. ,  3. ,  4.8,  1.8],\n",
              "       [ 6.9,  3.1,  5.4,  2.1],\n",
              "       [ 6.7,  3.1,  5.6,  2.4],\n",
              "       [ 6.9,  3.1,  5.1,  2.3],\n",
              "       [ 5.8,  2.7,  5.1,  1.9],\n",
              "       [ 6.8,  3.2,  5.9,  2.3],\n",
              "       [ 6.7,  3.3,  5.7,  2.5],\n",
              "       [ 6.7,  3. ,  5.2,  2.3],\n",
              "       [ 6.3,  2.5,  5. ,  1.9],\n",
              "       [ 6.5,  3. ,  5.2,  2. ],\n",
              "       [ 6.2,  3.4,  5.4,  2.3],\n",
              "       [ 5.9,  3. ,  5.1,  1.8]])"
            ]
          },
          "metadata": {
            "tags": []
          },
          "execution_count": 52
        }
      ]
    },
    {
      "cell_type": "code",
      "metadata": {
        "id": "LnwFDlPXhd5Z",
        "colab_type": "code",
        "colab": {},
        "outputId": "f4ef5605-2f59-43d3-c6e3-1daadb6fa5b7"
      },
      "source": [
        "y"
      ],
      "execution_count": 0,
      "outputs": [
        {
          "output_type": "execute_result",
          "data": {
            "text/plain": [
              "array([0, 0, 0, 0, 0, 0, 0, 0, 0, 0, 0, 0, 0, 0, 0, 0, 0, 0, 0, 0, 0, 0, 0,\n",
              "       0, 0, 0, 0, 0, 0, 0, 0, 0, 0, 0, 0, 0, 0, 0, 0, 0, 0, 0, 0, 0, 0, 0,\n",
              "       0, 0, 0, 0, 1, 1, 1, 1, 1, 1, 1, 1, 1, 1, 1, 1, 1, 1, 1, 1, 1, 1, 1,\n",
              "       1, 1, 1, 1, 1, 1, 1, 1, 1, 1, 1, 1, 1, 1, 1, 1, 1, 1, 1, 1, 1, 1, 1,\n",
              "       1, 1, 1, 1, 1, 1, 1, 1, 2, 2, 2, 2, 2, 2, 2, 2, 2, 2, 2, 2, 2, 2, 2,\n",
              "       2, 2, 2, 2, 2, 2, 2, 2, 2, 2, 2, 2, 2, 2, 2, 2, 2, 2, 2, 2, 2, 2, 2,\n",
              "       2, 2, 2, 2, 2, 2, 2, 2, 2, 2, 2, 2])"
            ]
          },
          "metadata": {
            "tags": []
          },
          "execution_count": 53
        }
      ]
    }
  ]
}